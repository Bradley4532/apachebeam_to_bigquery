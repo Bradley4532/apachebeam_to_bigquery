{
 "cells": [
  {
   "cell_type": "code",
   "execution_count": null,
   "id": "6db0d3cb",
   "metadata": {},
   "outputs": [],
   "source": [
    "    \n",
    "    "
   ]
  },
  {
   "cell_type": "code",
   "execution_count": 42,
   "id": "d30c72e9",
   "metadata": {},
   "outputs": [
    {
     "data": {
      "text/plain": [
       "<PCollection[[42]: label print.None] at 0x2dd2de2ab20>"
      ]
     },
     "execution_count": 42,
     "metadata": {},
     "output_type": "execute_result"
    }
   ],
   "source": []
  },
  {
   "cell_type": "code",
   "execution_count": 57,
   "id": "bbb68055",
   "metadata": {},
   "outputs": [
    {
     "name": "stderr",
     "output_type": "stream",
     "text": [
      "WARNING:root:Make sure that locally built Python SDK docker image has Python 3.8 interpreter.\n"
     ]
    },
    {
     "name": "stdout",
     "output_type": "stream",
     "text": [
      "['dasd', 'asfasfa', '1']\n",
      "['asdas', 'dasfasd', '2']\n",
      "['asdasd', 'dasfasdasdq', 'asdas']\n",
      "0\n",
      "3\n"
     ]
    }
   ],
   "source": [
    "import apache_beam as beam\n",
    "import pandas\n",
    "import argparse\n",
    "import re\n",
    "import os\n",
    "from apache_beam.options.pipeline_options import PipelineOptions\n",
    "from google.cloud import bigquery\n",
    "\n",
    "class FilterRecord(beam.DoFn):\n",
    "    def process(self, element, table_sch):\n",
    "        import apache_beam as beam\n",
    "        flag = 0\n",
    "        if(len(element) != len(table_sch)):\n",
    "            yield beam.pvalue.TaggedOutput('Bad', element)\n",
    "        else:\n",
    "            for x in range(0, len(element)):\n",
    "                #print(table_sch[x]['type'])\n",
    "                if(table_sch[x]['type'] == 'STRING'):\n",
    "                    if(element[x].strip().isalpha() == False):\n",
    "                        flag = 1\n",
    "                    else:\n",
    "                        pass\n",
    "                elif(table_sch[x]['type'] == 'INTEGER'):\n",
    "                    if(element[x].strip().isalpha()):\n",
    "                        flag = 1\n",
    "                    elif('.' in element[x]):\n",
    "                        flag = 1\n",
    "                    else:\n",
    "                        pass\n",
    "                elif(table_sch[x]['type'] == 'FLOAT'):\n",
    "                    if(element[x].strip().isalpha()):\n",
    "                        flag = 1\n",
    "                    elif('.' in element[x] == False):\n",
    "                        flag = 1\n",
    "                    else:\n",
    "                        pass\n",
    "                if(table_sch[x]['mode'] == 'REQUIRED'):\n",
    "                    if(len(element[x]) == 0):\n",
    "                        flag = 1\n",
    "            if(flag == 0):\n",
    "                yield beam.pvalue.TaggedOutput('Good', element)\n",
    "            else:\n",
    "                yield beam.pvalue.TaggedOutput('Bad', element)\n",
    "            \n",
    "            \n",
    "os.environ[\"GOOGLE_APPLICATION_CREDENTIALS\"] = 'flask-upload-345423-cbb52ca10b67.json'          \n",
    "table_ref = 'flask-upload-345423:sample.email'\n",
    "table_sch = []\n",
    "\n",
    "client = bigquery.Client()\n",
    "\n",
    "try:\n",
    "    SchemaJob = client.get_table(table_ref)\n",
    "    #print(\"Table Schema: {}\".format(SchemaJob.schema))\n",
    "    for s in SchemaJob.schema:\n",
    "        new_dict = {}\n",
    "        new_dict['name'] = s.name\n",
    "        new_dict['type'] = s.field_type\n",
    "        new_dict['mode'] = s.mode\n",
    "        table_sch.append(new_dict)\n",
    "    \n",
    "    print(table_sch)\n",
    "    #OUTPUT: [{'name': 'name', 'type': 'STRING', 'mode': 'NULLABLE'}, {'name': 'email', 'type': 'STRING', 'mode': 'NULLABLE'}, {'name': 'id', 'type': 'FLOAT', 'mode': 'NULLABLE'}]\n",
    "except Exception as e:\n",
    "    pass\n",
    "    \n",
    "\n",
    "with beam.Pipeline() as pipeline:\n",
    "    good, bad = (\n",
    "        pipeline\n",
    "        | beam.io.ReadFromText(\"email.csv\", skip_header_lines = True)\n",
    "        | beam.Map(lambda x : x.split(\",\"))\n",
    "        | beam.ParDo(FilterRecord(), table_sch).with_outputs(\"Good\", \"Bad\")\n",
    "   )\n",
    "    #good| 'Good print' >> beam.Map(print)\n",
    "    #(good| 'test' >> beam.combiners.Count.Globally()\n",
    "    #    | 'Good print' >> beam.Map(print))\n",
    "    #bad | 'Bad print' >> beam.Map(print)\n",
    "\n",
    "    bad_record = (bad |'bad label print' >> beam.Map(print)\n",
    "         | 'bad count' >> beam.combiners.Count.Globally()\n",
    "         | 'bad print' >> beam.Map(print))\n",
    "   \n",
    "    good_record = (good |'good label print' >> beam.Map(print)\n",
    "         | 'good count' >> beam.combiners.Count.Globally()\n",
    "         | 'good print' >> beam.Map(print))"
   ]
  },
  {
   "cell_type": "code",
   "execution_count": null,
   "id": "80b7ca42",
   "metadata": {},
   "outputs": [],
   "source": []
  }
 ],
 "metadata": {
  "kernelspec": {
   "display_name": "Python 3",
   "language": "python",
   "name": "python3"
  },
  "language_info": {
   "codemirror_mode": {
    "name": "ipython",
    "version": 3
   },
   "file_extension": ".py",
   "mimetype": "text/x-python",
   "name": "python",
   "nbconvert_exporter": "python",
   "pygments_lexer": "ipython3",
   "version": "3.8.13"
  }
 },
 "nbformat": 4,
 "nbformat_minor": 5
}
