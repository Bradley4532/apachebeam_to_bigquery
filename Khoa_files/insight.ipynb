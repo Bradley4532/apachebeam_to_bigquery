{
 "cells": [
  {
   "cell_type": "code",
   "execution_count": 1,
   "id": "91f90d0e",
   "metadata": {},
   "outputs": [],
   "source": [
    "#Project: Import csv to bigquery table\n",
    "#StartDate: 4/06/2022\n",
    "#EndDate: \n",
    "#Developer: Bradley, Hongquy, Khoa"
   ]
  },
  {
   "cell_type": "code",
   "execution_count": 2,
   "id": "ddd5c96a",
   "metadata": {},
   "outputs": [],
   "source": [
    "from flask import Flask,render_template,request,redirect,url_for\n",
    "from google.cloud import bigquery\n",
    "from google.oauth2 import service_account\n",
    "from google.cloud import storage\n",
    "import os, re, datetime, uuid, time, json\n",
    "import google.cloud.logging\n",
    "import apache_beam as beam\n",
    "from io import StringIO\n",
    "import argparse\n",
    "from apache_beam.options.pipeline_options import PipelineOptions\n",
    "from werkzeug.utils import secure_filename"
   ]
  },
  {
   "cell_type": "code",
   "execution_count": 7,
   "id": "9413d68f",
   "metadata": {},
   "outputs": [],
   "source": [
    "#this is to allow a authenticated user on the project to work on bigquery\n",
    "Key_path = r\"C:\\Users\\Khoa\\Documents\\Python Scripts\\flask-upload-345423-4f033f10d5f3.json\"\n",
    "\n",
    "#this is needed to request a job\n",
    "os.environ[\"GOOGLE_APPLICATION_CREDENTIALS\"] = Key_path\n",
    "credentials = service_account.Credentials.from_service_account_file(Key_path,scopes=[\"https://www.googleapis.com/auth/cloud-platform\"])\n",
    "client=bigquery.Client(credentials=credentials,project=credentials.project_id)\n",
    "#table_id='model-craft-342921.testing.Task3'\n",
    "storage_client=storage.Client(credentials=credentials,project=credentials.project_id)\n",
    "bucket = storage_client.get_bucket(\"sample_flask_ktd\")\n",
    "client1 = google.cloud.logging.Client()\n",
    "logger = client1.logger(name=\"dataflow.googleapis.com%2Fworker\")\n",
    "\n"
   ]
  },
  {
   "cell_type": "code",
   "execution_count": 8,
   "id": "d834e536",
   "metadata": {},
   "outputs": [],
   "source": [
    "class formating(beam.DoFn):\n",
    "    def process(self, element, table_sch):\n",
    "        import apache_beam as beam\n",
    "        record = {}\n",
    "        for x in range(0, len(element)):\n",
    "            name = table_sch[x]['name']\n",
    "            record[name] = element[x]\n",
    "        yield record"
   ]
  },
  {
   "cell_type": "code",
   "execution_count": 9,
   "id": "ce48456d",
   "metadata": {},
   "outputs": [],
   "source": [
    "class process_message(beam.DoFn):\n",
    "    def process(self, element, bad_input_data, count):\n",
    "        import apache_beam as beam\n",
    "        from io import StringIO\n",
    "        import json, re\n",
    "        bad_message = element.replace(\"'\",'\"')\n",
    "        bad_message = json.loads(bad_message)\n",
    "        for input_data in bad_input_data['elements']:\n",
    "            message = ''\n",
    "            if input_data[bad_message['location']] == bad_message['message'].split(': ')[1]:\n",
    "                message = 'Error #{} - Message: {} in column {} - Input: {}\\n'.format(count, bad_message['message'],bad_message['location'],input_data)\n",
    "                count = count + 1\n",
    "                bad_input_data['elements'].remove(input_data)\n",
    "                yield message"
   ]
  },
  {
   "cell_type": "code",
   "execution_count": 10,
   "id": "171816fc",
   "metadata": {},
   "outputs": [],
   "source": [
    "#Assume that the pipeline is already ran, with the timing already there"
   ]
  },
  {
   "cell_type": "code",
   "execution_count": 15,
   "id": "0d76c02d",
   "metadata": {},
   "outputs": [
    {
     "name": "stderr",
     "output_type": "stream",
     "text": [
      "WARNING:apache_beam.options.pipeline_options:Discarding unparseable args: ['-f', 'C:\\\\Users\\\\Khoa\\\\AppData\\\\Roaming\\\\jupyter\\\\runtime\\\\kernel-319d17a5-15a1-49d7-a002-43045853c5c3.json']\n",
      "WARNING:apache_beam.options.pipeline_options:Discarding invalid overrides: {'maxNumWorkers': 1}\n",
      "WARNING:root:Make sure that locally built Python SDK docker image has Python 3.8 interpreter.\n",
      "WARNING:apache_beam.options.pipeline_options:Discarding unparseable args: ['-f', 'C:\\\\Users\\\\Khoa\\\\AppData\\\\Roaming\\\\jupyter\\\\runtime\\\\kernel-319d17a5-15a1-49d7-a002-43045853c5c3.json']\n",
      "WARNING:apache_beam.options.pipeline_options:Discarding invalid overrides: {'maxNumWorkers': 1}\n",
      "WARNING:apache_beam.options.pipeline_options:Discarding unparseable args: ['-f', 'C:\\\\Users\\\\Khoa\\\\AppData\\\\Roaming\\\\jupyter\\\\runtime\\\\kernel-319d17a5-15a1-49d7-a002-43045853c5c3.json']\n",
      "WARNING:apache_beam.options.pipeline_options:Discarding invalid overrides: {'maxNumWorkers': 1}\n"
     ]
    }
   ],
   "source": [
    "beam_options = PipelineOptions(\n",
    "                                runner = 'DataflowRunner',\n",
    "                                #runner='DirectRunner',\n",
    "                                project = 'flask-upload-345423',\n",
    "                                job_name = 'example',\n",
    "                                temp_location = 'gs://sample_flask_ktd/temp',\n",
    "                                region='us-central1',\n",
    "                                maxNumWorkers= 1,\n",
    "                                service_account_email = 'example@flask-upload-345423.iam.gserviceaccount.com'\n",
    "                            )\n",
    "\n",
    "SCHEMA = {}\n",
    "table_sch = []\n",
    "try:\n",
    "    SchemaJob = client.get_table('flask-upload-345423.sample.{}'.format('email'))\n",
    "    for s in SchemaJob.schema:\n",
    "        new_dict = {}\n",
    "        new_dict['name'] = s.name\n",
    "        new_dict['type'] = s.field_type\n",
    "        new_dict['mode'] = s.mode\n",
    "        table_sch.append(new_dict)\n",
    "    SCHEMA['fields'] = table_sch\n",
    "\n",
    "except Exception as e:\n",
    "    print(e)\n",
    "\n",
    "start = time.time() # ADD THIS\n",
    "p = beam.Pipeline(options=beam_options)\n",
    "events  = (p | 'ReadData' >> beam.io.ReadFromText('gs://sample_flask_ktd/email.csv', skip_header_lines =1)\n",
    "             | 'Split' >> beam.Map(lambda x: x.split(','))\n",
    "             | 'format to dict2' >> beam.ParDo(formating(),table_sch) \n",
    "             | 'WriteToBigQuery2' >>  beam.io.gcp.bigquery.WriteToBigQuery(\n",
    "               'flask-upload-345423:sample.{}'.format('email'),\n",
    "               schema=SCHEMA,\n",
    "               write_disposition=beam.io.BigQueryDisposition.WRITE_APPEND,\n",
    "               insert_retry_strategy=beam.io.gcp.bigquery_tools.RetryStrategy.RETRY_NEVER,\n",
    "               method='STREAMING_INSERTS')\n",
    "            )\n",
    "(events[beam.io.gcp.bigquery.BigQueryWriteFn.FAILED_ROWS]\n",
    "             | \"Bad lines\" >> beam.io.WriteToText('gs://sample_flask_ktd/{}'.format('email'), shard_name_template = \"\")\n",
    ")\n",
    "\n",
    "result = p.run()\n",
    "result.wait_until_finish()\n",
    "end = time.time() # ADD THIS"
   ]
  },
  {
   "cell_type": "code",
   "execution_count": 36,
   "id": "519948fa",
   "metadata": {},
   "outputs": [],
   "source": [
    "# Get the time (in seconds) the DataFlow pipeline takes. \n",
    "time_elasped = end-start\n",
    "#print(time_elasped)\n",
    "\n",
    "# Good elements - read number of elements in BigQuery table\n",
    "query = \"SELECT count(*) FROM `flask-upload-345423.sample.email`\"\n",
    "try:\n",
    "    results =  client.query(query)\n",
    "except Exception as e:\n",
    "        print(\"ERROR: could not query\")\n",
    "num_good = \"\"\n",
    "for row in results:\n",
    "    num_good = row[\"f0_\"]\n",
    "#print(num_good)\n",
    "\n",
    "# Bad elements - get number of rows from the error text file\n",
    "blob = bucket.get_blob('error.txt')  #Make sure that this points to the error file\n",
    "downloaded_file = blob.download_as_text(encoding=\"utf-8\")\n",
    "num_bad = downloaded_file.count('\\n')\n",
    "\n",
    "\n",
    "#Write to GCP bucket\n",
    "msg = '''Time elasped: {} seconds\n",
    "Number of Valid Rows: {}\n",
    "Number of Invalid Rows: {}\n",
    "'''.format(time_elasped, num_good, num_bad)\n",
    "\n",
    "blob = bucket.blob(\"metrics\") #Prob change the output location\n",
    "blob.upload_from_string(msg)\n",
    "\n",
    "#print(msg)\n",
    "#OUTPUT:\n",
    "#Time elasped: 378.0396316051483 seconds\n",
    "#Number of Valid Rows: 11\n",
    "#Number of Invalid Rows: 41"
   ]
  },
  {
   "cell_type": "code",
   "execution_count": null,
   "id": "4e9c8c7a",
   "metadata": {},
   "outputs": [],
   "source": []
  }
 ],
 "metadata": {
  "kernelspec": {
   "display_name": "Python 3",
   "language": "python",
   "name": "python3"
  },
  "language_info": {
   "codemirror_mode": {
    "name": "ipython",
    "version": 3
   },
   "file_extension": ".py",
   "mimetype": "text/x-python",
   "name": "python",
   "nbconvert_exporter": "python",
   "pygments_lexer": "ipython3",
   "version": "3.8.13"
  }
 },
 "nbformat": 4,
 "nbformat_minor": 5
}
